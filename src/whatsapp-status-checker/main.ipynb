{
 "cells": [
  {
   "cell_type": "code",
   "execution_count": 1,
   "metadata": {},
   "outputs": [],
   "source": [
    "# Import the modular components\n",
    "from config import NUMBER, CALLMEBOT_APIKEY, status_uploader_name, timezone\n",
    "from core.app_controller import WhatsAppStatusApp\n",
    "from utils import ensure_chromedriver\n",
    "from art import set_default, tprint"
   ]
  },
  {
   "cell_type": "code",
   "execution_count": 2,
   "metadata": {},
   "outputs": [
    {
     "name": "stdout",
     "output_type": "stream",
     "text": [
      "Phone Number: 2349096866925\n",
      "Contact Name: Tom J\n",
      "Timezone: Africa/Lagos\n"
     ]
    }
   ],
   "source": [
    "# Configuration is now handled by the config module\n",
    "# All environment variables are loaded automatically\n",
    "print(f\"Phone Number: {NUMBER}\")\n",
    "print(f\"Contact Name: {status_uploader_name}\")\n",
    "print(f\"Timezone: {timezone}\")"
   ]
  },
  {
   "cell_type": "code",
   "execution_count": 3,
   "metadata": {},
   "outputs": [
    {
     "name": "stdout",
     "output_type": "stream",
     "text": [
      "                                                                                                                \n",
      " _ _ _  _         _         _____              _____  _         _                _____  _                       \n",
      "| | | || |_  ___ | |_  ___ |  _  | ___  ___   |   __|| |_  ___ | |_  _ _  ___   |  |  ||_| ___  _ _ _  ___  ___ \n",
      "| | | ||   || .'||  _||_ -||     || . || . |  |__   ||  _|| .'||  _|| | ||_ -|  |  |  || || -_|| | | || -_||  _|\n",
      "|_____||_|_||__,||_|  |___||__|__||  _||  _|  |_____||_|  |__,||_|  |___||___|   \\___/ |_||___||_____||___||_|  \n",
      "                                  |_|  |_|                                                                      \n",
      "\n",
      "Uѕιɴɢ Modυlαr Arcнιтecтυre \n"
     ]
    }
   ],
   "source": [
    "# Setup application\n",
    "set_default(\"fancy99\")\n",
    "tprint(\"Whatsapp Status Checker\", 'rectangles')\n",
    "tprint(\"Using Modular Architecture ✨\")"
   ]
  },
  {
   "cell_type": "code",
   "execution_count": 4,
   "metadata": {},
   "outputs": [
    {
     "name": "stdout",
     "output_type": "stream",
     "text": [
      "Configuration loaded from config.py\n",
      "XPath selectors managed by WhatsAppOperations class\n",
      "Ready to initialize WhatsApp Status Checker...\n"
     ]
    }
   ],
   "source": [
    "# Initialize the application\n",
    "# All configuration is now handled by the config module\n",
    "# All XPath selectors are managed by the WhatsAppOperations class\n",
    "print(\"Configuration loaded from config.py\")\n",
    "print(\"XPath selectors managed by WhatsAppOperations class\")\n",
    "print(\"Ready to initialize WhatsApp Status Checker...\")"
   ]
  },
  {
   "cell_type": "code",
   "execution_count": 5,
   "metadata": {},
   "outputs": [
    {
     "name": "stdout",
     "output_type": "stream",
     "text": [
      "Application initialized successfully!\n",
      "Ready to run WhatsApp Status Checker...\n"
     ]
    }
   ],
   "source": [
    "# Initialize the WhatsApp Status Checker Application\n",
    "# All the complex logic is now handled by the modular components\n",
    "\n",
    "# Ensure ChromeDriver is available\n",
    "ensure_chromedriver()\n",
    "\n",
    "# Create the application instance\n",
    "app = WhatsAppStatusApp(NUMBER, CALLMEBOT_APIKEY, status_uploader_name, timezone)\n",
    "\n",
    "print(\"Application initialized successfully!\")\n",
    "print(\"Ready to run WhatsApp Status Checker...\")\n",
    "\n",
    "\n",
    "\n",
    "\n",
    "\n",
    "# This cell has been replaced by the modular architecture\n",
    "# All WhatsApp operations are now handled by WhatsAppOperations class\n",
    "\n",
    "# All scrolling logic is now handled by WhatsAppOperations class\n",
    "\n",
    "# Status type detection is now handled by WhatsAppOperations.check_status_type()\n",
    "\n",
    "# The autoViewStatus function has been replaced by app.auto_view_status()\n",
    "# All the complex status viewing logic is now handled by the modular components:\n",
    "# - WhatsAppOperations: Handles WhatsApp interactions\n",
    "# - StatusHandlers: Handle different status types using Strategy pattern\n",
    "# - AppController: Orchestrates the entire application flow"
   ]
  },
  {
   "cell_type": "code",
   "execution_count": 6,
   "metadata": {},
   "outputs": [
    {
     "name": "stdout",
     "output_type": "stream",
     "text": [
      "                                                                                                                \n",
      " _ _ _  _         _         _____              _____  _         _                _____  _                       \n",
      "| | | || |_  ___ | |_  ___ |  _  | ___  ___   |   __|| |_  ___ | |_  _ _  ___   |  |  ||_| ___  _ _ _  ___  ___ \n",
      "| | | ||   || .'||  _||_ -||     || . || . |  |__   ||  _|| .'||  _|| | ||_ -|  |  |  || || -_|| | | || -_||  _|\n",
      "|_____||_|_||__,||_|  |___||__|__||  _||  _|  |_____||_|  |__,||_|  |___||___|   \\___/ |_||___||_____||___||_|  \n",
      "                                  |_|  |_|                                                                      \n",
      "\n",
      "\n",
      "Do yoυ wαɴт тo ɢeт ɴoтιғιed αвoυт ѕтαтυѕ or vιew тнeм αυтoмαтιcαlly?\n",
      "Eɴтer \"Y\" тo ɢeт ɴoтιғιed or \"N\" тo vιew тнeм αυтoмαтιcαlly: \n",
      "\n",
      "Loɢɢιɴɢ ιɴ... 💿\n",
      "Loɢɢed ιɴ ѕυcceѕѕғυlly. ✌\n",
      "Loɢɢed ιɴ αт 09:52:49 PM\n",
      "\n",
      "Toм J\n",
      "Uɴvιewed Sтαтυѕ υpdαтe ιѕ 1 oυт oғ 1.\n",
      "1. Sтαтυѕ ιѕ α Vιdeo.\n",
      "--------------------------------------\n",
      "Program ended!\n",
      "Application ended!\n"
     ]
    },
    {
     "ename": "SystemExit",
     "evalue": "1",
     "output_type": "error",
     "traceback": [
      "An exception has occurred, use %tb to see the full traceback.\n",
      "\u001b[31mSystemExit\u001b[39m\u001b[31m:\u001b[39m 1\n"
     ]
    },
    {
     "name": "stderr",
     "output_type": "stream",
     "text": [
      "c:\\Users\\LMAO\\Documents\\C0D3\\WhatsApp-Status-Checker\\.venv\\Lib\\site-packages\\IPython\\core\\interactiveshell.py:3707: UserWarning: To exit: use 'exit', 'quit', or Ctrl-D.\n",
      "  warn(\"To exit: use 'exit', 'quit', or Ctrl-D.\", stacklevel=1)\n"
     ]
    }
   ],
   "source": [
    "# Run the WhatsApp Status Checker Application\n",
    "# This replaces all the complex logic from the original notebook\n",
    "\n",
    "try:\n",
    "    # Run the application\n",
    "    app.run()\n",
    "except KeyboardInterrupt:\n",
    "    print(\"Application stopped by user\")\n",
    "except Exception as e:\n",
    "    print(f\"An error occurred: {e}\")\n",
    "finally:\n",
    "    print(\"Application ended!\")\n"
   ]
  },
  {
   "cell_type": "code",
   "execution_count": 7,
   "metadata": {},
   "outputs": [
    {
     "name": "stdout",
     "output_type": "stream",
     "text": [
      "Starting WhatsApp Status Checker with modular architecture...\n",
      "All complex logic is now handled by:\n",
      "- AppController: Main application flow\n",
      "- WhatsAppOperations: WhatsApp interactions\n",
      "- StatusHandlers: Status type handling (Strategy pattern)\n",
      "- BotManager: WebDriver management\n",
      "- Config: Configuration management\n"
     ]
    }
   ],
   "source": [
    "# The main execution logic has been simplified to use the modular architecture\n",
    "# All the complex setup and user interaction is now handled by the AppController\n",
    "\n",
    "# The application is already initialized in the previous cell\n",
    "# Just run it with the clean, modular approach\n",
    "print(\"Starting WhatsApp Status Checker with modular architecture...\")\n",
    "print(\"All complex logic is now handled by:\")\n",
    "print(\"- AppController: Main application flow\")\n",
    "print(\"- WhatsAppOperations: WhatsApp interactions\") \n",
    "print(\"- StatusHandlers: Status type handling (Strategy pattern)\")\n",
    "print(\"- BotManager: WebDriver management\")\n",
    "print(\"- Config: Configuration management\")"
   ]
  },
  {
   "cell_type": "code",
   "execution_count": null,
   "metadata": {},
   "outputs": [],
   "source": [
    "# WhatsApp Status Checker - Refactored Notebook\n",
    "\n",
    "## 🎉 Transformation Summary\n",
    "\n",
    "This notebook has been completely refactored to use the implemented **modular architecture**:\n",
    "\n",
    "### Before (Monolithic):\n",
    "- ❌ 400+ lines of complex, tightly-coupled code\n",
    "- ❌ All logic in one massive function (`autoViewStatus`)\n",
    "- ❌ Hardcoded XPath selectors scattered throughout\n",
    "- ❌ Complex nested functions and global variables\n",
    "- ❌ Difficult to maintain and test\n",
    "\n",
    "### After (Modular):\n",
    "- ✅ Clean, simple notebook with just 6 cells\n",
    "- ✅ **Strategy Pattern**: Different status handlers for each type\n",
    "- ✅ **Factory Method Pattern**: Creates appropriate handlers\n",
    "- ✅ **Single Responsibility**: Each class has one job\n",
    "- ✅ **Separation of Concerns**: Logic separated into focused modules\n",
    "- ✅ **Configuration Management**: Centralized config\n",
    "- ✅ **Error Handling**: Proper exception management\n",
    "\n",
    "### Architecture Components:\n",
    "1. **`AppController`**: Orchestrates the entire application flow\n",
    "2. **`WhatsAppOperations`**: Handles all WhatsApp interactions\n",
    "3. **`StatusHandlers`**: Strategy pattern for different status types\n",
    "4. **`BotManager`**: Manages WebDriver lifecycle\n",
    "5. **`Config`**: Centralized configuration management\n",
    "\n",
    "### Design Patterns Used:\n",
    "- **Strategy Pattern**: Status handling algorithms\n",
    "- **Factory Method Pattern**: Handler creation\n",
    "- **Single Responsibility Principle**: Each class has one job\n",
    "- **Dependency Injection**: Components receive dependencies\n",
    "\n",
    "The notebook is now **clean, maintainable, and follows SOLID principles**! 🚀\n"
   ]
  }
 ],
 "metadata": {
  "kernelspec": {
   "display_name": ".venv",
   "language": "python",
   "name": "python3"
  },
  "language_info": {
   "codemirror_mode": {
    "name": "ipython",
    "version": 3
   },
   "file_extension": ".py",
   "mimetype": "text/x-python",
   "name": "python",
   "nbconvert_exporter": "python",
   "pygments_lexer": "ipython3",
   "version": "3.12.11"
  }
 },
 "nbformat": 4,
 "nbformat_minor": 2
}
